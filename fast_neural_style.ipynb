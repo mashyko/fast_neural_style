{
 "cells": [
  {
   "cell_type": "code",
   "execution_count": null,
   "metadata": {},
   "outputs": [],
   "source": [
    "from google.colab import drive\n",
    "drive.mount('/content/drive')\n",
    "%cd /content/drive/My Drive/fast_neural_style/"
   ]
  },
  {
   "cell_type": "code",
   "execution_count": null,
   "metadata": {},
   "outputs": [],
   "source": [
    "!python neural_style/neural_style.py eval \\\n",
    "  --content-image images/content-images/minato_mirai.jpg \\\n",
    "  --model saved_models/udnie.pth  \n",
    "  --output-image images/output-images/minato_mirai.jpg \n",
    "  --cuda 1"
   ]
  },
  {
   "cell_type": "code",
   "execution_count": null,
   "metadata": {},
   "outputs": [],
   "source": [
    "'''\n",
    "!python neural_style/neural_style.py train --dataset ../data_coco/train2014 \\\n",
    "              --style-image images/style_images/gogh_1.jpg \\\n",
    "              --save-model-dir save-models/gogh_1.pth --epochs 2 --cuda 1\n",
    "\"\"\""
   ]
  }
 ],
 "metadata": {
  "kernelspec": {
   "display_name": "Python 3",
   "language": "python",
   "name": "python3"
  },
  "language_info": {
   "codemirror_mode": {
    "name": "ipython",
    "version": 3
   },
   "file_extension": ".py",
   "mimetype": "text/x-python",
   "name": "python",
   "nbconvert_exporter": "python",
   "pygments_lexer": "ipython3",
   "version": "3.7.4"
  }
 },
 "nbformat": 4,
 "nbformat_minor": 2
}
